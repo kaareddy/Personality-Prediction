{
 "cells": [
  {
   "cell_type": "code",
   "execution_count": 1,
   "id": "4fba1680",
   "metadata": {},
   "outputs": [],
   "source": [
    "import re\n",
    "import numpy as np\n",
    "import pandas as pd\n",
    "from pandas import read_csv\n",
    "from sklearn.model_selection import train_test_split\n",
    "from sklearn.naive_bayes import GaussianNB\n",
    "from sklearn.feature_extraction.text import CountVectorizer\n",
    "from sklearn.metrics import accuracy_score,confusion_matrix\n",
    "from sklearn.naive_bayes import MultinomialNB\n",
    "import pandas as pd\n",
    "from sklearn.linear_model import LogisticRegression\n",
    "import seaborn as sns\n",
    "from sklearn.svm import LinearSVC\n",
    "import matplotlib.pyplot as plt"
   ]
  },
  {
   "cell_type": "code",
   "execution_count": 2,
   "id": "3d8efe39",
   "metadata": {},
   "outputs": [],
   "source": [
    "#load mbti dataset \n",
    "mbti_dataset = pd.read_csv(\"mbti_1.csv\",encoding='ISO-8859-1')\n",
    "\n",
    "#load big5 dataset\n",
    "big5_dataset = pd.read_csv(\"big5_1.csv\",encoding='ISO-8859-1')"
   ]
  },
  {
   "cell_type": "code",
   "execution_count": 3,
   "id": "db4bf0e3",
   "metadata": {},
   "outputs": [],
   "source": [
    "#DATASET EXPLORATION"
   ]
  },
  {
   "cell_type": "code",
   "execution_count": 4,
   "id": "d52f17c4",
   "metadata": {},
   "outputs": [
    {
     "data": {
      "text/html": [
       "<div>\n",
       "<style scoped>\n",
       "    .dataframe tbody tr th:only-of-type {\n",
       "        vertical-align: middle;\n",
       "    }\n",
       "\n",
       "    .dataframe tbody tr th {\n",
       "        vertical-align: top;\n",
       "    }\n",
       "\n",
       "    .dataframe thead th {\n",
       "        text-align: right;\n",
       "    }\n",
       "</style>\n",
       "<table border=\"1\" class=\"dataframe\">\n",
       "  <thead>\n",
       "    <tr style=\"text-align: right;\">\n",
       "      <th></th>\n",
       "      <th>type</th>\n",
       "      <th>posts</th>\n",
       "    </tr>\n",
       "  </thead>\n",
       "  <tbody>\n",
       "    <tr>\n",
       "      <th>0</th>\n",
       "      <td>INFJ</td>\n",
       "      <td>'http://www.youtube.com/watch?v=qsXHcwe3krw|||...</td>\n",
       "    </tr>\n",
       "    <tr>\n",
       "      <th>1</th>\n",
       "      <td>ENTP</td>\n",
       "      <td>'I'm finding the lack of me in these posts ver...</td>\n",
       "    </tr>\n",
       "    <tr>\n",
       "      <th>2</th>\n",
       "      <td>INTP</td>\n",
       "      <td>'Good one  _____   https://www.youtube.com/wat...</td>\n",
       "    </tr>\n",
       "    <tr>\n",
       "      <th>3</th>\n",
       "      <td>INTJ</td>\n",
       "      <td>'Dear INTP,   I enjoyed our conversation the o...</td>\n",
       "    </tr>\n",
       "    <tr>\n",
       "      <th>4</th>\n",
       "      <td>ENTJ</td>\n",
       "      <td>'You're fired.|||That's another silly misconce...</td>\n",
       "    </tr>\n",
       "    <tr>\n",
       "      <th>5</th>\n",
       "      <td>INTJ</td>\n",
       "      <td>'18/37 @.@|||Science  is not perfect. No scien...</td>\n",
       "    </tr>\n",
       "    <tr>\n",
       "      <th>6</th>\n",
       "      <td>INFJ</td>\n",
       "      <td>'No, I can't draw on my own nails (haha). Thos...</td>\n",
       "    </tr>\n",
       "    <tr>\n",
       "      <th>7</th>\n",
       "      <td>INTJ</td>\n",
       "      <td>'I tend to build up a collection of things on ...</td>\n",
       "    </tr>\n",
       "    <tr>\n",
       "      <th>8</th>\n",
       "      <td>INFJ</td>\n",
       "      <td>I'm not sure, that's a good question. The dist...</td>\n",
       "    </tr>\n",
       "    <tr>\n",
       "      <th>9</th>\n",
       "      <td>INTP</td>\n",
       "      <td>'https://www.youtube.com/watch?v=w8-egj0y8Qs||...</td>\n",
       "    </tr>\n",
       "  </tbody>\n",
       "</table>\n",
       "</div>"
      ],
      "text/plain": [
       "   type                                              posts\n",
       "0  INFJ  'http://www.youtube.com/watch?v=qsXHcwe3krw|||...\n",
       "1  ENTP  'I'm finding the lack of me in these posts ver...\n",
       "2  INTP  'Good one  _____   https://www.youtube.com/wat...\n",
       "3  INTJ  'Dear INTP,   I enjoyed our conversation the o...\n",
       "4  ENTJ  'You're fired.|||That's another silly misconce...\n",
       "5  INTJ  '18/37 @.@|||Science  is not perfect. No scien...\n",
       "6  INFJ  'No, I can't draw on my own nails (haha). Thos...\n",
       "7  INTJ  'I tend to build up a collection of things on ...\n",
       "8  INFJ  I'm not sure, that's a good question. The dist...\n",
       "9  INTP  'https://www.youtube.com/watch?v=w8-egj0y8Qs||..."
      ]
     },
     "execution_count": 4,
     "metadata": {},
     "output_type": "execute_result"
    }
   ],
   "source": [
    "#MBTI DATASET\n",
    "mbti_dataset.head(10)"
   ]
  },
  {
   "cell_type": "code",
   "execution_count": 5,
   "id": "15d464f1",
   "metadata": {},
   "outputs": [],
   "source": [
    "#renaming the column names into meaningful names\n",
    "new_column_names = {'type':'MBTI','posts':'TEXT'}\n",
    "\n",
    "# Use the rename method to rename columns\n",
    "mbti_dataset = mbti_dataset.rename(columns=new_column_names)\n"
   ]
  },
  {
   "cell_type": "code",
   "execution_count": 6,
   "id": "29a8bec8",
   "metadata": {},
   "outputs": [],
   "source": [
    "mbti_dataset = mbti_dataset.iloc[:,[1,0]]"
   ]
  },
  {
   "cell_type": "code",
   "execution_count": 7,
   "id": "9f473bdf",
   "metadata": {},
   "outputs": [
    {
     "data": {
      "text/html": [
       "<div>\n",
       "<style scoped>\n",
       "    .dataframe tbody tr th:only-of-type {\n",
       "        vertical-align: middle;\n",
       "    }\n",
       "\n",
       "    .dataframe tbody tr th {\n",
       "        vertical-align: top;\n",
       "    }\n",
       "\n",
       "    .dataframe thead th {\n",
       "        text-align: right;\n",
       "    }\n",
       "</style>\n",
       "<table border=\"1\" class=\"dataframe\">\n",
       "  <thead>\n",
       "    <tr style=\"text-align: right;\">\n",
       "      <th></th>\n",
       "      <th>TEXT</th>\n",
       "    </tr>\n",
       "    <tr>\n",
       "      <th>MBTI</th>\n",
       "      <th></th>\n",
       "    </tr>\n",
       "  </thead>\n",
       "  <tbody>\n",
       "    <tr>\n",
       "      <th>ENFJ</th>\n",
       "      <td>190</td>\n",
       "    </tr>\n",
       "    <tr>\n",
       "      <th>ENFP</th>\n",
       "      <td>675</td>\n",
       "    </tr>\n",
       "    <tr>\n",
       "      <th>ENTJ</th>\n",
       "      <td>231</td>\n",
       "    </tr>\n",
       "    <tr>\n",
       "      <th>ENTP</th>\n",
       "      <td>685</td>\n",
       "    </tr>\n",
       "    <tr>\n",
       "      <th>ESFJ</th>\n",
       "      <td>42</td>\n",
       "    </tr>\n",
       "    <tr>\n",
       "      <th>ESFP</th>\n",
       "      <td>48</td>\n",
       "    </tr>\n",
       "    <tr>\n",
       "      <th>ESTJ</th>\n",
       "      <td>39</td>\n",
       "    </tr>\n",
       "    <tr>\n",
       "      <th>ESTP</th>\n",
       "      <td>89</td>\n",
       "    </tr>\n",
       "    <tr>\n",
       "      <th>INFJ</th>\n",
       "      <td>1470</td>\n",
       "    </tr>\n",
       "    <tr>\n",
       "      <th>INFP</th>\n",
       "      <td>1832</td>\n",
       "    </tr>\n",
       "    <tr>\n",
       "      <th>INTJ</th>\n",
       "      <td>1091</td>\n",
       "    </tr>\n",
       "    <tr>\n",
       "      <th>INTP</th>\n",
       "      <td>1304</td>\n",
       "    </tr>\n",
       "    <tr>\n",
       "      <th>ISFJ</th>\n",
       "      <td>166</td>\n",
       "    </tr>\n",
       "    <tr>\n",
       "      <th>ISFP</th>\n",
       "      <td>271</td>\n",
       "    </tr>\n",
       "    <tr>\n",
       "      <th>ISTJ</th>\n",
       "      <td>205</td>\n",
       "    </tr>\n",
       "    <tr>\n",
       "      <th>ISTP</th>\n",
       "      <td>337</td>\n",
       "    </tr>\n",
       "  </tbody>\n",
       "</table>\n",
       "</div>"
      ],
      "text/plain": [
       "      TEXT\n",
       "MBTI      \n",
       "ENFJ   190\n",
       "ENFP   675\n",
       "ENTJ   231\n",
       "ENTP   685\n",
       "ESFJ    42\n",
       "ESFP    48\n",
       "ESTJ    39\n",
       "ESTP    89\n",
       "INFJ  1470\n",
       "INFP  1832\n",
       "INTJ  1091\n",
       "INTP  1304\n",
       "ISFJ   166\n",
       "ISFP   271\n",
       "ISTJ   205\n",
       "ISTP   337"
      ]
     },
     "execution_count": 7,
     "metadata": {},
     "output_type": "execute_result"
    }
   ],
   "source": [
    "mbti_dataset.groupby(['MBTI']).count()\n"
   ]
  },
  {
   "cell_type": "code",
   "execution_count": 8,
   "id": "027dfb95",
   "metadata": {},
   "outputs": [
    {
     "name": "stdout",
     "output_type": "stream",
     "text": [
      "<class 'pandas.core.frame.DataFrame'>\n",
      "RangeIndex: 8675 entries, 0 to 8674\n",
      "Data columns (total 2 columns):\n",
      " #   Column  Non-Null Count  Dtype \n",
      "---  ------  --------------  ----- \n",
      " 0   TEXT    8675 non-null   object\n",
      " 1   MBTI    8675 non-null   object\n",
      "dtypes: object(2)\n",
      "memory usage: 135.7+ KB\n"
     ]
    }
   ],
   "source": [
    "mbti_dataset.info()"
   ]
  },
  {
   "cell_type": "code",
   "execution_count": 9,
   "id": "6e2738c0",
   "metadata": {},
   "outputs": [
    {
     "data": {
      "text/html": [
       "<div>\n",
       "<style scoped>\n",
       "    .dataframe tbody tr th:only-of-type {\n",
       "        vertical-align: middle;\n",
       "    }\n",
       "\n",
       "    .dataframe tbody tr th {\n",
       "        vertical-align: top;\n",
       "    }\n",
       "\n",
       "    .dataframe thead th {\n",
       "        text-align: right;\n",
       "    }\n",
       "</style>\n",
       "<table border=\"1\" class=\"dataframe\">\n",
       "  <thead>\n",
       "    <tr style=\"text-align: right;\">\n",
       "      <th></th>\n",
       "      <th>TEXT</th>\n",
       "      <th>MBTI</th>\n",
       "    </tr>\n",
       "  </thead>\n",
       "  <tbody>\n",
       "    <tr>\n",
       "      <th>count</th>\n",
       "      <td>8675</td>\n",
       "      <td>8675</td>\n",
       "    </tr>\n",
       "    <tr>\n",
       "      <th>unique</th>\n",
       "      <td>8675</td>\n",
       "      <td>16</td>\n",
       "    </tr>\n",
       "    <tr>\n",
       "      <th>top</th>\n",
       "      <td>'http://www.youtube.com/watch?v=qsXHcwe3krw|||...</td>\n",
       "      <td>INFP</td>\n",
       "    </tr>\n",
       "    <tr>\n",
       "      <th>freq</th>\n",
       "      <td>1</td>\n",
       "      <td>1832</td>\n",
       "    </tr>\n",
       "  </tbody>\n",
       "</table>\n",
       "</div>"
      ],
      "text/plain": [
       "                                                     TEXT  MBTI\n",
       "count                                                8675  8675\n",
       "unique                                               8675    16\n",
       "top     'http://www.youtube.com/watch?v=qsXHcwe3krw|||...  INFP\n",
       "freq                                                    1  1832"
      ]
     },
     "execution_count": 9,
     "metadata": {},
     "output_type": "execute_result"
    }
   ],
   "source": [
    "mbti_dataset.describe()"
   ]
  },
  {
   "cell_type": "code",
   "execution_count": 10,
   "id": "38a9e8d5",
   "metadata": {},
   "outputs": [
    {
     "data": {
      "text/html": [
       "<div>\n",
       "<style scoped>\n",
       "    .dataframe tbody tr th:only-of-type {\n",
       "        vertical-align: middle;\n",
       "    }\n",
       "\n",
       "    .dataframe tbody tr th {\n",
       "        vertical-align: top;\n",
       "    }\n",
       "\n",
       "    .dataframe thead th {\n",
       "        text-align: right;\n",
       "    }\n",
       "</style>\n",
       "<table border=\"1\" class=\"dataframe\">\n",
       "  <thead>\n",
       "    <tr style=\"text-align: right;\">\n",
       "      <th></th>\n",
       "      <th>#AUTHID</th>\n",
       "      <th>TEXT</th>\n",
       "      <th>cEXT</th>\n",
       "      <th>cNEU</th>\n",
       "      <th>cAGR</th>\n",
       "      <th>cCON</th>\n",
       "      <th>cOPN</th>\n",
       "    </tr>\n",
       "  </thead>\n",
       "  <tbody>\n",
       "    <tr>\n",
       "      <th>0</th>\n",
       "      <td>1997_504851.txt</td>\n",
       "      <td>Well, right now I just woke up from a mid-day ...</td>\n",
       "      <td>n</td>\n",
       "      <td>y</td>\n",
       "      <td>y</td>\n",
       "      <td>n</td>\n",
       "      <td>y</td>\n",
       "    </tr>\n",
       "    <tr>\n",
       "      <th>1</th>\n",
       "      <td>1997_605191.txt</td>\n",
       "      <td>Well, here we go with the stream of consciousn...</td>\n",
       "      <td>n</td>\n",
       "      <td>n</td>\n",
       "      <td>y</td>\n",
       "      <td>n</td>\n",
       "      <td>n</td>\n",
       "    </tr>\n",
       "    <tr>\n",
       "      <th>2</th>\n",
       "      <td>1997_687252.txt</td>\n",
       "      <td>An open keyboard and buttons to push. The thin...</td>\n",
       "      <td>n</td>\n",
       "      <td>y</td>\n",
       "      <td>n</td>\n",
       "      <td>y</td>\n",
       "      <td>y</td>\n",
       "    </tr>\n",
       "    <tr>\n",
       "      <th>3</th>\n",
       "      <td>1997_568848.txt</td>\n",
       "      <td>I can't believe it!  It's really happening!  M...</td>\n",
       "      <td>y</td>\n",
       "      <td>n</td>\n",
       "      <td>y</td>\n",
       "      <td>y</td>\n",
       "      <td>n</td>\n",
       "    </tr>\n",
       "    <tr>\n",
       "      <th>4</th>\n",
       "      <td>1997_688160.txt</td>\n",
       "      <td>Well, here I go with the good old stream of co...</td>\n",
       "      <td>y</td>\n",
       "      <td>n</td>\n",
       "      <td>y</td>\n",
       "      <td>n</td>\n",
       "      <td>y</td>\n",
       "    </tr>\n",
       "    <tr>\n",
       "      <th>5</th>\n",
       "      <td>1997_722902.txt</td>\n",
       "      <td>Today. Had to turn the music down. Today I wen...</td>\n",
       "      <td>y</td>\n",
       "      <td>n</td>\n",
       "      <td>y</td>\n",
       "      <td>n</td>\n",
       "      <td>y</td>\n",
       "    </tr>\n",
       "    <tr>\n",
       "      <th>6</th>\n",
       "      <td>1997_724708.txt</td>\n",
       "      <td>Stream of consciousness. What should I write a...</td>\n",
       "      <td>n</td>\n",
       "      <td>n</td>\n",
       "      <td>y</td>\n",
       "      <td>n</td>\n",
       "      <td>n</td>\n",
       "    </tr>\n",
       "    <tr>\n",
       "      <th>7</th>\n",
       "      <td>1997_724794.txt</td>\n",
       "      <td>The RTF305 Usenet site is a piece of garbage! ...</td>\n",
       "      <td>n</td>\n",
       "      <td>n</td>\n",
       "      <td>n</td>\n",
       "      <td>y</td>\n",
       "      <td>y</td>\n",
       "    </tr>\n",
       "    <tr>\n",
       "      <th>8</th>\n",
       "      <td>1997_628043.txt</td>\n",
       "      <td>I'm really unsure about this assignment becaus...</td>\n",
       "      <td>y</td>\n",
       "      <td>y</td>\n",
       "      <td>n</td>\n",
       "      <td>y</td>\n",
       "      <td>y</td>\n",
       "    </tr>\n",
       "    <tr>\n",
       "      <th>9</th>\n",
       "      <td>1997_708036.txt</td>\n",
       "      <td>Today was a tough day for me. I can't believed...</td>\n",
       "      <td>y</td>\n",
       "      <td>y</td>\n",
       "      <td>y</td>\n",
       "      <td>y</td>\n",
       "      <td>n</td>\n",
       "    </tr>\n",
       "  </tbody>\n",
       "</table>\n",
       "</div>"
      ],
      "text/plain": [
       "           #AUTHID                                               TEXT cEXT  \\\n",
       "0  1997_504851.txt  Well, right now I just woke up from a mid-day ...    n   \n",
       "1  1997_605191.txt  Well, here we go with the stream of consciousn...    n   \n",
       "2  1997_687252.txt  An open keyboard and buttons to push. The thin...    n   \n",
       "3  1997_568848.txt  I can't believe it!  It's really happening!  M...    y   \n",
       "4  1997_688160.txt  Well, here I go with the good old stream of co...    y   \n",
       "5  1997_722902.txt  Today. Had to turn the music down. Today I wen...    y   \n",
       "6  1997_724708.txt  Stream of consciousness. What should I write a...    n   \n",
       "7  1997_724794.txt  The RTF305 Usenet site is a piece of garbage! ...    n   \n",
       "8  1997_628043.txt  I'm really unsure about this assignment becaus...    y   \n",
       "9  1997_708036.txt  Today was a tough day for me. I can't believed...    y   \n",
       "\n",
       "  cNEU cAGR cCON cOPN  \n",
       "0    y    y    n    y  \n",
       "1    n    y    n    n  \n",
       "2    y    n    y    y  \n",
       "3    n    y    y    n  \n",
       "4    n    y    n    y  \n",
       "5    n    y    n    y  \n",
       "6    n    y    n    n  \n",
       "7    n    n    y    y  \n",
       "8    y    n    y    y  \n",
       "9    y    y    y    n  "
      ]
     },
     "execution_count": 10,
     "metadata": {},
     "output_type": "execute_result"
    }
   ],
   "source": [
    "#BIG5 DATASET\n",
    "big5_dataset.head(10)"
   ]
  },
  {
   "cell_type": "code",
   "execution_count": 11,
   "id": "2d13c4b5",
   "metadata": {},
   "outputs": [],
   "source": [
    "# Selecting the required columns from the dataset\n",
    "columns_to_keep = ['TEXT', 'cEXT', 'cNEU', 'cAGR', 'cCON', 'cOPN']\n",
    "big5_dataset = big5_dataset[columns_to_keep]\n"
   ]
  },
  {
   "cell_type": "code",
   "execution_count": 12,
   "id": "74c11b55",
   "metadata": {},
   "outputs": [
    {
     "data": {
      "text/html": [
       "<div>\n",
       "<style scoped>\n",
       "    .dataframe tbody tr th:only-of-type {\n",
       "        vertical-align: middle;\n",
       "    }\n",
       "\n",
       "    .dataframe tbody tr th {\n",
       "        vertical-align: top;\n",
       "    }\n",
       "\n",
       "    .dataframe thead th {\n",
       "        text-align: right;\n",
       "    }\n",
       "</style>\n",
       "<table border=\"1\" class=\"dataframe\">\n",
       "  <thead>\n",
       "    <tr style=\"text-align: right;\">\n",
       "      <th></th>\n",
       "      <th>TEXT</th>\n",
       "      <th>cEXT</th>\n",
       "      <th>cNEU</th>\n",
       "      <th>cAGR</th>\n",
       "      <th>cCON</th>\n",
       "      <th>cOPN</th>\n",
       "    </tr>\n",
       "  </thead>\n",
       "  <tbody>\n",
       "    <tr>\n",
       "      <th>0</th>\n",
       "      <td>Well, right now I just woke up from a mid-day ...</td>\n",
       "      <td>n</td>\n",
       "      <td>y</td>\n",
       "      <td>y</td>\n",
       "      <td>n</td>\n",
       "      <td>y</td>\n",
       "    </tr>\n",
       "    <tr>\n",
       "      <th>1</th>\n",
       "      <td>Well, here we go with the stream of consciousn...</td>\n",
       "      <td>n</td>\n",
       "      <td>n</td>\n",
       "      <td>y</td>\n",
       "      <td>n</td>\n",
       "      <td>n</td>\n",
       "    </tr>\n",
       "    <tr>\n",
       "      <th>2</th>\n",
       "      <td>An open keyboard and buttons to push. The thin...</td>\n",
       "      <td>n</td>\n",
       "      <td>y</td>\n",
       "      <td>n</td>\n",
       "      <td>y</td>\n",
       "      <td>y</td>\n",
       "    </tr>\n",
       "    <tr>\n",
       "      <th>3</th>\n",
       "      <td>I can't believe it!  It's really happening!  M...</td>\n",
       "      <td>y</td>\n",
       "      <td>n</td>\n",
       "      <td>y</td>\n",
       "      <td>y</td>\n",
       "      <td>n</td>\n",
       "    </tr>\n",
       "    <tr>\n",
       "      <th>4</th>\n",
       "      <td>Well, here I go with the good old stream of co...</td>\n",
       "      <td>y</td>\n",
       "      <td>n</td>\n",
       "      <td>y</td>\n",
       "      <td>n</td>\n",
       "      <td>y</td>\n",
       "    </tr>\n",
       "    <tr>\n",
       "      <th>5</th>\n",
       "      <td>Today. Had to turn the music down. Today I wen...</td>\n",
       "      <td>y</td>\n",
       "      <td>n</td>\n",
       "      <td>y</td>\n",
       "      <td>n</td>\n",
       "      <td>y</td>\n",
       "    </tr>\n",
       "    <tr>\n",
       "      <th>6</th>\n",
       "      <td>Stream of consciousness. What should I write a...</td>\n",
       "      <td>n</td>\n",
       "      <td>n</td>\n",
       "      <td>y</td>\n",
       "      <td>n</td>\n",
       "      <td>n</td>\n",
       "    </tr>\n",
       "    <tr>\n",
       "      <th>7</th>\n",
       "      <td>The RTF305 Usenet site is a piece of garbage! ...</td>\n",
       "      <td>n</td>\n",
       "      <td>n</td>\n",
       "      <td>n</td>\n",
       "      <td>y</td>\n",
       "      <td>y</td>\n",
       "    </tr>\n",
       "    <tr>\n",
       "      <th>8</th>\n",
       "      <td>I'm really unsure about this assignment becaus...</td>\n",
       "      <td>y</td>\n",
       "      <td>y</td>\n",
       "      <td>n</td>\n",
       "      <td>y</td>\n",
       "      <td>y</td>\n",
       "    </tr>\n",
       "    <tr>\n",
       "      <th>9</th>\n",
       "      <td>Today was a tough day for me. I can't believed...</td>\n",
       "      <td>y</td>\n",
       "      <td>y</td>\n",
       "      <td>y</td>\n",
       "      <td>y</td>\n",
       "      <td>n</td>\n",
       "    </tr>\n",
       "  </tbody>\n",
       "</table>\n",
       "</div>"
      ],
      "text/plain": [
       "                                                TEXT cEXT cNEU cAGR cCON cOPN\n",
       "0  Well, right now I just woke up from a mid-day ...    n    y    y    n    y\n",
       "1  Well, here we go with the stream of consciousn...    n    n    y    n    n\n",
       "2  An open keyboard and buttons to push. The thin...    n    y    n    y    y\n",
       "3  I can't believe it!  It's really happening!  M...    y    n    y    y    n\n",
       "4  Well, here I go with the good old stream of co...    y    n    y    n    y\n",
       "5  Today. Had to turn the music down. Today I wen...    y    n    y    n    y\n",
       "6  Stream of consciousness. What should I write a...    n    n    y    n    n\n",
       "7  The RTF305 Usenet site is a piece of garbage! ...    n    n    n    y    y\n",
       "8  I'm really unsure about this assignment becaus...    y    y    n    y    y\n",
       "9  Today was a tough day for me. I can't believed...    y    y    y    y    n"
      ]
     },
     "execution_count": 12,
     "metadata": {},
     "output_type": "execute_result"
    }
   ],
   "source": [
    "big5_dataset.head(10)"
   ]
  },
  {
   "cell_type": "code",
   "execution_count": 13,
   "id": "d90883fa",
   "metadata": {},
   "outputs": [],
   "source": [
    "#renaming the column names into meaningful names\n",
    "new_column_names = {'cEXT': 'EXTRAVERSION', 'cNEU': 'NEUROTICISM', 'cAGR': 'AGREEABLENESS', 'cCON': 'CONSCIENTIOUSNESS', 'cOPN': 'OPENNESS'}\n",
    "\n",
    "# Use the rename method to rename columns\n",
    "big5_dataset = big5_dataset.rename(columns=new_column_names)"
   ]
  },
  {
   "cell_type": "code",
   "execution_count": 14,
   "id": "ab4d6280",
   "metadata": {},
   "outputs": [
    {
     "name": "stdout",
     "output_type": "stream",
     "text": [
      "<class 'pandas.core.frame.DataFrame'>\n",
      "RangeIndex: 2468 entries, 0 to 2467\n",
      "Data columns (total 6 columns):\n",
      " #   Column             Non-Null Count  Dtype \n",
      "---  ------             --------------  ----- \n",
      " 0   TEXT               2468 non-null   object\n",
      " 1   EXTRAVERSION       2468 non-null   object\n",
      " 2   NEUROTICISM        2468 non-null   object\n",
      " 3   AGREEABLENESS      2468 non-null   object\n",
      " 4   CONSCIENTIOUSNESS  2468 non-null   object\n",
      " 5   OPENNESS           2468 non-null   object\n",
      "dtypes: object(6)\n",
      "memory usage: 115.8+ KB\n"
     ]
    }
   ],
   "source": [
    "big5_dataset.info()"
   ]
  },
  {
   "cell_type": "code",
   "execution_count": 15,
   "id": "164d6ee9",
   "metadata": {},
   "outputs": [
    {
     "name": "stdout",
     "output_type": "stream",
     "text": [
      "                                                   TEXT  MBTI\n",
      "0     'http://www.youtube.com/watch?v=qsXHcwe3krw|||...  INFJ\n",
      "1     'I'm finding the lack of me in these posts ver...  ENTP\n",
      "2     'Good one  _____   https://www.youtube.com/wat...  INTP\n",
      "3     'Dear INTP,   I enjoyed our conversation the o...  INTJ\n",
      "4     'You're fired.|||That's another silly misconce...  ENTJ\n",
      "...                                                 ...   ...\n",
      "8670  'https://www.youtube.com/watch?v=t8edHB_h908||...  ISFP\n",
      "8671  'So...if this thread already exists someplace ...  ENFP\n",
      "8672  'So many questions when i do these things.  I ...  INTP\n",
      "8673  'I am very conflicted right now when it comes ...  INFP\n",
      "8674  'It has been too long since I have been on per...  INFP\n",
      "\n",
      "[8675 rows x 2 columns]\n"
     ]
    }
   ],
   "source": [
    "print(mbti_dataset)"
   ]
  },
  {
   "cell_type": "code",
   "execution_count": 16,
   "id": "b6e35f1b",
   "metadata": {},
   "outputs": [],
   "source": [
    "#CONVERTING BIG5 TO MBTI"
   ]
  },
  {
   "cell_type": "code",
   "execution_count": 17,
   "id": "e4c5410e",
   "metadata": {},
   "outputs": [
    {
     "name": "stderr",
     "output_type": "stream",
     "text": [
      "[nltk_data] Downloading package stopwords to\n",
      "[nltk_data]     C:\\Users\\saisu\\AppData\\Roaming\\nltk_data...\n",
      "[nltk_data]   Package stopwords is already up-to-date!\n",
      "[nltk_data] Downloading package wordnet to\n",
      "[nltk_data]     C:\\Users\\saisu\\AppData\\Roaming\\nltk_data...\n",
      "[nltk_data]   Package wordnet is already up-to-date!\n"
     ]
    },
    {
     "data": {
      "text/plain": [
       "True"
      ]
     },
     "execution_count": 17,
     "metadata": {},
     "output_type": "execute_result"
    }
   ],
   "source": [
    "import nltk\n",
    "nltk.download('stopwords')\n",
    "nltk.download('wordnet')"
   ]
  },
  {
   "cell_type": "code",
   "execution_count": 18,
   "id": "212fdb17",
   "metadata": {},
   "outputs": [
    {
     "name": "stderr",
     "output_type": "stream",
     "text": [
      "[nltk_data] Downloading package omw-1.4 to\n",
      "[nltk_data]     C:\\Users\\saisu\\AppData\\Roaming\\nltk_data...\n",
      "[nltk_data]   Package omw-1.4 is already up-to-date!\n"
     ]
    }
   ],
   "source": [
    "from nltk import word_tokenize\n",
    "import string\n",
    "punctuations = string.punctuation\n",
    "\n",
    "import nltk\n",
    "nltk.download('omw-1.4')\n",
    "\n",
    "\n",
    "from nltk.corpus import stopwords\n",
    "stop_words = stopwords.words('english')\n",
    "\n",
    "from nltk.stem import WordNetLemmatizer\n",
    "wordnet_lemmatizer = WordNetLemmatizer()\n",
    "\n",
    "def normalization(post_str: str, vocab=None):\n",
    "    # Lowercase\n",
    "    post_str = post_str.lower()\n",
    "\n",
    "    # Removing Punctuation\n",
    "    post_str = \"\".join([char for char in post_str if char not in punctuations])\n",
    "\n",
    "    # Tokenization\n",
    "    words: list = word_tokenize(post_str)\n",
    "\n",
    "    # Stopword Filtering\n",
    "    filtered_words = [word for word in words if word not in stop_words]\n",
    "\n",
    "    # Remove words not in the vocabulary\n",
    "    if vocab is not None:\n",
    "        filtered_words = [word for word in filtered_words if word in vocab]\n",
    "        pass\n",
    "\n",
    "    # Lemmatization\n",
    "    lem_words = [wordnet_lemmatizer.lemmatize(word) for word in filtered_words]\n",
    "    return lem_words\n",
    "\n",
    "    pass"
   ]
  },
  {
   "cell_type": "code",
   "execution_count": null,
   "id": "f0a87b14",
   "metadata": {},
   "outputs": [],
   "source": []
  },
  {
   "cell_type": "code",
   "execution_count": 19,
   "id": "abb67892",
   "metadata": {},
   "outputs": [],
   "source": [
    "\n",
    "def bigfive_to_mbti():\n",
    "    final_dataset = mbti_dataset\n",
    "    \n",
    "    list_text = list()\n",
    "    list_type = list()\n",
    "    Data_type = object\n",
    "    \n",
    "    for text in final_dataset['TEXT']:\n",
    "        text_stringlist = (normalization(text))\n",
    "        \n",
    "        list_text.append(text_stringlist)\n",
    "        \n",
    "    for type in final_dataset[\"MBTI\"]:\n",
    "        list_type.append(type)  \n",
    "\n",
    "    \n",
    "    for personality in big5_dataset.itertuples(index=False):\n",
    "        mbti = ''\n",
    "        #converting Extroversion to Introvert/Extrovert\n",
    "        if(personality[1].lower() == 'y'):\n",
    "            mbti+= 'E'\n",
    "        else:\n",
    "            mbti+= 'I'\n",
    "        \n",
    "        #converting Openness to Intuition/Sensing\n",
    "        if(personality[5].lower() == 'y'):\n",
    "            mbti+= 'N'\n",
    "        else:\n",
    "            mbti+= 'S'\n",
    "        \n",
    "        #converting Agreeableness to Thinker/Feeler\n",
    "        if(personality[3].lower() == 'y'):\n",
    "            mbti+= 'F'\n",
    "        else:\n",
    "            mbti+= 'T'\n",
    "        \n",
    "        #converting Conscientiousness to judger/Perceiver\n",
    "        if(personality[4].lower() == 'y'):\n",
    "            mbti+= 'J'\n",
    "        else:\n",
    "            mbti+= 'P'\n",
    "            \n",
    "        new_row = pd.DataFrame({'TEXT': [personality[0]], 'MBTI': [mbti]})\n",
    "\n",
    "        \n",
    "        final_dataset = pd.concat([final_dataset, new_row], ignore_index=True)\n",
    "        \n",
    "    \n",
    "    return final_dataset,list_text,list_type"
   ]
  },
  {
   "cell_type": "code",
   "execution_count": 20,
   "id": "2c0cbcf5",
   "metadata": {},
   "outputs": [
    {
     "name": "stdout",
     "output_type": "stream",
     "text": [
      "8675\n"
     ]
    }
   ],
   "source": [
    "final_dataset,list_text,list_type = bigfive_to_mbti()\n",
    "print(len(list_text))"
   ]
  },
  {
   "cell_type": "code",
   "execution_count": 21,
   "id": "e0c071c7",
   "metadata": {},
   "outputs": [],
   "source": [
    "from sklearn.feature_extraction.text import CountVectorizer\n",
    "from sklearn.model_selection import train_test_split\n",
    "from sklearn.naive_bayes import MultinomialNB\n",
    "\n",
    "def train_test_div():\n",
    "    \n",
    "    # Joining tokenized words into sentences\n",
    "    joined_text = [' '.join(words) for words in list_text]\n",
    "\n",
    "    # Using CountVectorizer\n",
    "    vectorizer = CountVectorizer(max_features=1000)\n",
    "    x = vectorizer.fit_transform(joined_text)  # Sparse matrix representation\n",
    "\n",
    "\n",
    "    y = list_type\n",
    "\n",
    "    x_train, x_test, y_train, y_test = train_test_split(x, y, test_size=0.2, random_state=5)\n",
    "    return x_train, x_test, y_train, y_test"
   ]
  },
  {
   "cell_type": "code",
   "execution_count": 22,
   "id": "e5d508d1",
   "metadata": {},
   "outputs": [],
   "source": [
    "from sklearn.feature_extraction.text import TfidfVectorizer\n",
    "from sklearn.model_selection import train_test_split\n",
    "from sklearn.naive_bayes import MultinomialNB\n",
    "\n",
    "def train_test_div2():\n",
    "    \n",
    "    # Joining tokenized words into sentences\n",
    "    joined_text = [' '.join(words) for words in list_text]\n",
    "\n",
    "    # Using TfidfVectorizer without max_features\n",
    "    vectorizer = TfidfVectorizer(max_features=5000)\n",
    "    x = vectorizer.fit_transform(joined_text)  # Sparse matrix representation of TF-IDF values\n",
    "\n",
    "    y = list_type\n",
    "\n",
    "    x_train, x_test, y_train, y_test = train_test_split(x, y, test_size=0.2, random_state=5)\n",
    "    return x_train, x_test, y_train, y_test\n"
   ]
  },
  {
   "cell_type": "code",
   "execution_count": 23,
   "id": "f80a57f8",
   "metadata": {},
   "outputs": [],
   "source": [
    "x_train, x_test, y_train, y_test = train_test_div()"
   ]
  },
  {
   "cell_type": "code",
   "execution_count": 24,
   "id": "f863f01f",
   "metadata": {},
   "outputs": [],
   "source": [
    "\n",
    "from sklearn.model_selection import train_test_split\n",
    "from sklearn.naive_bayes import MultinomialNB\n",
    "\n",
    "def multinomialNB(x_train, x_test, y_train, y_test):\n",
    "    \n",
    "    model = MultinomialNB()\n",
    "    model.fit(x_train, y_train)\n",
    "    y_pred_multi = model.predict(x_test)\n",
    "\n",
    "    #print(y_pred_multi)\n",
    "    accuracy_mnb = accuracy_score(y_test, y_pred_multi)*100\n",
    "\n",
    "    print(\"The accuracy of Multinomial Naive Bayes: \",accuracy_score(y_test, y_pred_multi)*100,\"% \\n\")\n",
    "\n",
    "    print(\"total count of each type in the test data\" )\n",
    "    unique, counts = np.unique(y_test, return_counts=True)\n",
    "    print(dict(zip(unique, counts)),\"\\n\")\n",
    "\n",
    "    print(\"total count of each type in predicted data \")\n",
    "    unique, counts = np.unique(y_pred_multi, return_counts=True)\n",
    "    print(dict(zip(unique, counts)))\n",
    "    \n",
    "    return accuracy_mnb\n"
   ]
  },
  {
   "cell_type": "code",
   "execution_count": 25,
   "id": "be78ad40",
   "metadata": {},
   "outputs": [],
   "source": [
    "from sklearn.feature_extraction.text import CountVectorizer\n",
    "from sklearn.model_selection import train_test_split\n",
    "from sklearn.naive_bayes import ComplementNB\n",
    "\n",
    "def complementNB(x_train, x_test, y_train, y_test):\n",
    "\n",
    "    x_train_dense = x_train.toarray()\n",
    "    x_test_dense = x_test.toarray()\n",
    "\n",
    "    model = ComplementNB()\n",
    "    model.fit(x_train_dense, y_train)\n",
    "    y_pred_multi = model.predict(x_test_dense)\n",
    "    #print(y_pred_multi)\n",
    "    \n",
    "    accuracy_cnb = accuracy_score(y_test, y_pred_multi)*100\n",
    "    print(\"The accuracy of Complement Naive Bayes: \",accuracy_score(y_test, y_pred_multi)*100,\"% \\n\")\n",
    "\n",
    "\n",
    "    print(\"total count of each type in the test data\" )\n",
    "    unique, counts = np.unique(y_test, return_counts=True)\n",
    "    print(dict(zip(unique, counts)),\"\\n\")\n",
    "\n",
    "    print(\"total count of each type in predicted data \")\n",
    "    unique, counts = np.unique(y_pred_multi, return_counts=True)\n",
    "    print(dict(zip(unique, counts)))\n",
    "    \n",
    "    return accuracy_cnb,model"
   ]
  },
  {
   "cell_type": "code",
   "execution_count": 26,
   "id": "5f514b8f",
   "metadata": {},
   "outputs": [],
   "source": [
    "    \n",
    "def logisticRegression(x_train, x_test, y_train, y_test):\n",
    "    \n",
    "    logreg = LogisticRegression(solver='lbfgs', max_iter=500)\n",
    "    logreg.fit(x_train, y_train)\n",
    "\n",
    "    y_pred = logreg.predict(x_test)\n",
    "\n",
    "    df = pd.DataFrame({'Real Values':y_test, 'Predicted Values':y_pred})\n",
    "\n",
    "    print(\"The accuracy of Logistic regression: \",accuracy_score(y_test, y_pred)*100,\"% \\n\")\n",
    "    print( df)\n",
    "\n",
    "\n",
    "    accuracy_lr = accuracy_score(y_test, y_pred)*100\n",
    "    confusion_mat = confusion_matrix(y_test, y_pred)\n",
    "    print(\"Accuracy:\", accuracy_lr)\n",
    "    print(\"Confusion matrix:\", confusion_mat)\n",
    "\n",
    "    #labels = [1,2,3,4,5,6,7,8,9,10,11,12,13,14,15,16]\n",
    "\n",
    "    sns.heatmap(confusion_mat, annot=True, fmt='d', cmap='Blues')\n",
    "    plt.xlabel('Predicted')\n",
    "    plt.ylabel('Actual')\n",
    "    plt.show()\n",
    "\n",
    "    #ax = sns.heatmap(ConfusionMatrix, annot=True, cmap=’BuPu’)\n",
    "    print(\"total count of each type in the test data\" )\n",
    "    unique, counts = np.unique(y_test, return_counts=True)\n",
    "    print(dict(zip(unique, counts)),\"\\n\")\n",
    "\n",
    "    print(\"total count of each type in predicted data \")\n",
    "    unique, counts = np.unique(y_pred, return_counts=True)\n",
    "    print(dict(zip(unique, counts)))\n",
    "    \n",
    "    return accuracy_lr\n",
    "    "
   ]
  },
  {
   "cell_type": "code",
   "execution_count": 27,
   "id": "970e201f",
   "metadata": {},
   "outputs": [],
   "source": [
    "from sklearn.ensemble import GradientBoostingClassifier\n",
    "import os\n",
    "from typing import Optional\n",
    "\n",
    "def gradientBoosting(x_train, x_test, y_train, y_test):\n",
    "    \n",
    "    gbc_model_dump_file = 'gbc2.model'\n",
    "    gbc: Optional[GradientBoostingClassifier] = None\n",
    "    if os.path.exists(gbc_model_dump_file):\n",
    "        gbc = joblib.load(gbc_model_dump_file)\n",
    "        pass\n",
    "    else:\n",
    "        gbc = GradientBoostingClassifier(n_estimators=50, learning_rate=1.0,\n",
    "                                         max_depth=1, random_state=42)\n",
    "        gbc.fit(x_train, y_train)\n",
    "        pass\n",
    "\n",
    "\n",
    "    y_pred_gbc = gbc.predict(x_test)\n",
    "    accuracy_gbc = accuracy_score(y_test, y_pred_gbc)*100\n",
    "\n",
    "    print(\"The accuracy of Gradient Boosting: \",accuracy_score(y_test, y_pred_gbc)*100,\"% \\n\")\n",
    "\n",
    "\n",
    "    print(\"total count of each type in the test data\" )\n",
    "    unique, counts = np.unique(y_test, return_counts=True)\n",
    "    print(dict(zip(unique, counts)),\"\\n\")\n",
    "\n",
    "    print(\"total count of each type in predicted data \")\n",
    "    unique, counts = np.unique(y_pred_gbc, return_counts=True)\n",
    "    print(dict(zip(unique, counts)))\n",
    "    \n",
    "    return accuracy_gbc,gbc"
   ]
  },
  {
   "cell_type": "code",
   "execution_count": 28,
   "id": "8825922b",
   "metadata": {},
   "outputs": [],
   "source": [
    "#knearest neighbors\n",
    "from sklearn.neighbors import KNeighborsClassifier\n",
    "\n",
    "def knearestNeighbors(x_train, x_test, y_train, y_test):\n",
    "    \n",
    "    neigh = KNeighborsClassifier(n_neighbors=5, n_jobs=3)\n",
    "    neigh.fit(x_train, y_train)\n",
    "    y_pred_knnbrs = neigh.predict(x_test)\n",
    "    \n",
    "    accuracy_knnnbrs = accuracy_score(y_test, y_pred_knnbrs)*100\n",
    "    print(\"The accuracy of Knearest neigbors: \",accuracy_score(y_test, y_pred_knnbrs)*100,\"% \\n\")\n",
    "\n",
    "\n",
    "    print(\"total count of each type in the test data\" )\n",
    "    unique, counts = np.unique(y_test, return_counts=True)\n",
    "    print(dict(zip(unique, counts)),\"\\n\")\n",
    "\n",
    "    print(\"total count of each type in predicted data \")\n",
    "    unique, counts = np.unique(y_pred_knnbrs, return_counts=True)\n",
    "    print(dict(zip(unique, counts)))\n",
    "    \n",
    "    return accuracy_knnnbrs"
   ]
  },
  {
   "cell_type": "code",
   "execution_count": 29,
   "id": "1fec3614",
   "metadata": {},
   "outputs": [],
   "source": [
    "from sklearn.ensemble import RandomForestClassifier\n",
    "\n",
    "def randomForest(x_train, x_test, y_train, y_test):\n",
    "    \n",
    "    # Create a Random Forest Classifier\n",
    "    model = RandomForestClassifier(n_estimators=100, random_state=5)\n",
    "\n",
    "    # Fit the model on the training data\n",
    "    model.fit(x_train, y_train)\n",
    "\n",
    "    # Predict on the test data\n",
    "    y_pred_rf = model.predict(x_test)\n",
    "\n",
    "    accuracy_rf = accuracy_score(y_test, y_pred_rf) * 100\n",
    "    # Print accuracy\n",
    "    print(\"The accuracy of Random Forest: \", accuracy_score(y_test, y_pred_rf) * 100, \"% \\n\")\n",
    "\n",
    "    # Print the total count of each type in the test data\n",
    "    print(\"Total count of each type in the test data\")\n",
    "    unique, counts = np.unique(y_test, return_counts=True)\n",
    "    print(dict(zip(unique, counts)), \"\\n\")\n",
    "\n",
    "    # Print the total count of each type in predicted data\n",
    "    print(\"Total count of each type in predicted data\")\n",
    "    unique, counts = np.unique(y_pred_rf, return_counts=True)\n",
    "    print(dict(zip(unique, counts)))\n",
    "    \n",
    "    return accuracy_rf\n"
   ]
  },
  {
   "cell_type": "code",
   "execution_count": 30,
   "id": "7134db96",
   "metadata": {},
   "outputs": [
    {
     "name": "stdout",
     "output_type": "stream",
     "text": [
      "The accuracy of Multinomial Naive Bayes:  57.46397694524495 % \n",
      "\n",
      "total count of each type in the test data\n",
      "{'ENFJ': 33, 'ENFP': 142, 'ENTJ': 37, 'ENTP': 138, 'ESFJ': 11, 'ESFP': 9, 'ESTJ': 5, 'ESTP': 13, 'INFJ': 309, 'INFP': 366, 'INTJ': 224, 'INTP': 258, 'ISFJ': 27, 'ISFP': 56, 'ISTJ': 42, 'ISTP': 65} \n",
      "\n",
      "total count of each type in predicted data \n",
      "{'ENFJ': 39, 'ENFP': 145, 'ENTJ': 83, 'ENTP': 103, 'ESFJ': 11, 'ESFP': 13, 'ESTJ': 2, 'ESTP': 29, 'INFJ': 215, 'INFP': 420, 'INTJ': 196, 'INTP': 248, 'ISFJ': 31, 'ISFP': 59, 'ISTJ': 42, 'ISTP': 99}\n"
     ]
    }
   ],
   "source": [
    "#comparing the accuracies of all the models\n",
    "accuracy_mnb = multinomialNB(x_train, x_test, y_train, y_test)"
   ]
  },
  {
   "cell_type": "code",
   "execution_count": 31,
   "id": "596fb5c2",
   "metadata": {},
   "outputs": [
    {
     "name": "stdout",
     "output_type": "stream",
     "text": [
      "The accuracy of Complement Naive Bayes:  62.132564841498564 % \n",
      "\n",
      "total count of each type in the test data\n",
      "{'ENFJ': 33, 'ENFP': 142, 'ENTJ': 37, 'ENTP': 138, 'ESFJ': 11, 'ESFP': 9, 'ESTJ': 5, 'ESTP': 13, 'INFJ': 309, 'INFP': 366, 'INTJ': 224, 'INTP': 258, 'ISFJ': 27, 'ISFP': 56, 'ISTJ': 42, 'ISTP': 65} \n",
      "\n",
      "total count of each type in predicted data \n",
      "{'ENFJ': 13, 'ENFP': 130, 'ENTJ': 21, 'ENTP': 116, 'ESFJ': 2, 'ESTP': 2, 'INFJ': 257, 'INFP': 549, 'INTJ': 213, 'INTP': 324, 'ISFJ': 12, 'ISFP': 12, 'ISTJ': 22, 'ISTP': 62}\n"
     ]
    }
   ],
   "source": [
    "accuracy_cnb,cnb_model = complementNB(x_train, x_test, y_train, y_test)"
   ]
  },
  {
   "cell_type": "code",
   "execution_count": 32,
   "id": "5e769102",
   "metadata": {},
   "outputs": [
    {
     "name": "stderr",
     "output_type": "stream",
     "text": [
      "C:\\Users\\saisu\\anaconda3\\lib\\site-packages\\sklearn\\linear_model\\_logistic.py:458: ConvergenceWarning: lbfgs failed to converge (status=1):\n",
      "STOP: TOTAL NO. of ITERATIONS REACHED LIMIT.\n",
      "\n",
      "Increase the number of iterations (max_iter) or scale the data as shown in:\n",
      "    https://scikit-learn.org/stable/modules/preprocessing.html\n",
      "Please also refer to the documentation for alternative solver options:\n",
      "    https://scikit-learn.org/stable/modules/linear_model.html#logistic-regression\n",
      "  n_iter_i = _check_optimize_result(\n"
     ]
    },
    {
     "name": "stdout",
     "output_type": "stream",
     "text": [
      "The accuracy of Logistic regression:  49.79827089337176 % \n",
      "\n",
      "     Real Values Predicted Values\n",
      "0           INFP             ENTJ\n",
      "1           INTP             INTP\n",
      "2           INFP             INTP\n",
      "3           ENFP             ENFP\n",
      "4           ENTP             ENTP\n",
      "...          ...              ...\n",
      "1730        INTP             INTP\n",
      "1731        INFJ             INFJ\n",
      "1732        INTP             INTJ\n",
      "1733        INTJ             INTJ\n",
      "1734        ENTJ             ENTJ\n",
      "\n",
      "[1735 rows x 2 columns]\n",
      "Accuracy: 49.79827089337176\n",
      "Confusion matrix: [[ 13   2   0   0   0   0   0   0   6   7   1   1   0   2   0   1]\n",
      " [  5  79   1   8   0   0   0   2   8  17   4   4   2   7   3   2]\n",
      " [  0   0  13   5   0   1   0   0   4   5   2   5   0   1   0   1]\n",
      " [  0  16   3  61   0   0   0   2  17   6   9  14   0   2   1   7]\n",
      " [  0   0   0   0   4   0   0   0   1   1   0   4   0   1   0   0]\n",
      " [  0   1   2   0   0   3   0   0   1   1   0   1   0   0   0   0]\n",
      " [  0   0   0   1   0   0   1   0   0   1   1   0   0   1   0   0]\n",
      " [  0   0   0   3   0   0   0   1   4   1   0   1   0   1   0   2]\n",
      " [  6  19   2  10   0   1   0   0 165  42  23  22   5   7   3   4]\n",
      " [  4  31   4   4   0   0   1   4  45 207  22  27   1  11   2   3]\n",
      " [  5  10   3  12   0   1   0   1  16  18 119  27   0   3   4   5]\n",
      " [  3   7   1  18   0   0   0   0  19  23  29 140   0   6   2  10]\n",
      " [  0   2   0   2   0   0   0   0   2   3   1   3  11   1   0   2]\n",
      " [  1   4   1   1   1   1   0   2   4   9   4   1   5  18   1   3]\n",
      " [  1   3   0   5   0   0   0   0   6   4   7   5   1   1   8   1]\n",
      " [  2   3   0   7   0   0   0   3   4   7   5  11   0   1   1  21]]\n"
     ]
    },
    {
     "data": {
      "image/png": "[encoded data removed]",
      "text/plain": [
       "<Figure size 640x480 with 2 Axes>"
      ]
     },
     "metadata": {},
     "output_type": "display_data"
    },
    {
     "name": "stdout",
     "output_type": "stream",
     "text": [
      "total count of each type in the test data\n",
      "{'ENFJ': 33, 'ENFP': 142, 'ENTJ': 37, 'ENTP': 138, 'ESFJ': 11, 'ESFP': 9, 'ESTJ': 5, 'ESTP': 13, 'INFJ': 309, 'INFP': 366, 'INTJ': 224, 'INTP': 258, 'ISFJ': 27, 'ISFP': 56, 'ISTJ': 42, 'ISTP': 65} \n",
      "\n",
      "total count of each type in predicted data \n",
      "{'ENFJ': 40, 'ENFP': 177, 'ENTJ': 30, 'ENTP': 137, 'ESFJ': 5, 'ESFP': 7, 'ESTJ': 2, 'ESTP': 15, 'INFJ': 302, 'INFP': 352, 'INTJ': 227, 'INTP': 266, 'ISFJ': 25, 'ISFP': 63, 'ISTJ': 25, 'ISTP': 62}\n"
     ]
    }
   ],
   "source": [
    "accuracy_lr = logisticRegression(x_train, x_test, y_train, y_test)"
   ]
  },
  {
   "cell_type": "code",
   "execution_count": 33,
   "id": "df218946",
   "metadata": {},
   "outputs": [
    {
     "name": "stdout",
     "output_type": "stream",
     "text": [
      "The accuracy of Gradient Boosting:  60.576368876080686 % \n",
      "\n",
      "total count of each type in the test data\n",
      "{'ENFJ': 33, 'ENFP': 142, 'ENTJ': 37, 'ENTP': 138, 'ESFJ': 11, 'ESFP': 9, 'ESTJ': 5, 'ESTP': 13, 'INFJ': 309, 'INFP': 366, 'INTJ': 224, 'INTP': 258, 'ISFJ': 27, 'ISFP': 56, 'ISTJ': 42, 'ISTP': 65} \n",
      "\n",
      "total count of each type in predicted data \n",
      "{'ENFJ': 31, 'ENFP': 125, 'ENTJ': 17, 'ENTP': 122, 'ESFJ': 17, 'ESFP': 6, 'ESTP': 28, 'INFJ': 294, 'INFP': 497, 'INTJ': 200, 'INTP': 256, 'ISFJ': 32, 'ISFP': 27, 'ISTJ': 46, 'ISTP': 37}\n"
     ]
    }
   ],
   "source": [
    "accuracy_gbc,gbc_model = gradientBoosting(x_train, x_test, y_train, y_test)"
   ]
  },
  {
   "cell_type": "code",
   "execution_count": 34,
   "id": "9a8a3f33",
   "metadata": {},
   "outputs": [
    {
     "name": "stdout",
     "output_type": "stream",
     "text": [
      "The accuracy of Knearest neigbors:  28.12680115273775 % \n",
      "\n",
      "total count of each type in the test data\n",
      "{'ENFJ': 33, 'ENFP': 142, 'ENTJ': 37, 'ENTP': 138, 'ESFJ': 11, 'ESFP': 9, 'ESTJ': 5, 'ESTP': 13, 'INFJ': 309, 'INFP': 366, 'INTJ': 224, 'INTP': 258, 'ISFJ': 27, 'ISFP': 56, 'ISTJ': 42, 'ISTP': 65} \n",
      "\n",
      "total count of each type in predicted data \n",
      "{'ENFJ': 48, 'ENFP': 196, 'ENTJ': 40, 'ENTP': 195, 'ESFJ': 10, 'ESFP': 11, 'ESTP': 23, 'INFJ': 307, 'INFP': 468, 'INTJ': 149, 'INTP': 211, 'ISFJ': 2, 'ISFP': 36, 'ISTJ': 11, 'ISTP': 28}\n"
     ]
    }
   ],
   "source": [
    "accuracy_knnbrs = knearestNeighbors(x_train, x_test, y_train, y_test)"
   ]
  },
  {
   "cell_type": "code",
   "execution_count": 35,
   "id": "25667842",
   "metadata": {},
   "outputs": [
    {
     "name": "stdout",
     "output_type": "stream",
     "text": [
      "The accuracy of Random Forest:  58.61671469740634 % \n",
      "\n",
      "Total count of each type in the test data\n",
      "{'ENFJ': 33, 'ENFP': 142, 'ENTJ': 37, 'ENTP': 138, 'ESFJ': 11, 'ESFP': 9, 'ESTJ': 5, 'ESTP': 13, 'INFJ': 309, 'INFP': 366, 'INTJ': 224, 'INTP': 258, 'ISFJ': 27, 'ISFP': 56, 'ISTJ': 42, 'ISTP': 65} \n",
      "\n",
      "Total count of each type in predicted data\n",
      "{'ENFJ': 3, 'ENFP': 91, 'ENTJ': 2, 'ENTP': 84, 'INFJ': 373, 'INFP': 626, 'INTJ': 200, 'INTP': 322, 'ISFJ': 1, 'ISFP': 1, 'ISTJ': 3, 'ISTP': 29}\n"
     ]
    }
   ],
   "source": [
    "accuracy_rf = randomForest(x_train, x_test, y_train, y_test)"
   ]
  },
  {
   "cell_type": "code",
   "execution_count": 36,
   "id": "cb7747c2",
   "metadata": {},
   "outputs": [
    {
     "data": {
      "image/png": "[encoded data removed]",
      "text/plain": [
       "<Figure size 640x480 with 1 Axes>"
      ]
     },
     "metadata": {},
     "output_type": "display_data"
    }
   ],
   "source": [
    "\n",
    "import matplotlib.pyplot as plt\n",
    "\n",
    "# This line is for Jupyter notebooks to display the plot inline\n",
    "%matplotlib inline\n",
    "\n",
    "# Sample data\n",
    "values = [accuracy_mnb, accuracy_cnb, accuracy_lr, accuracy_gbc,accuracy_knnbrs , accuracy_rf]\n",
    "labels = ['MNB', 'CNB', 'LR', 'GBC', 'KNNBRS', 'RDF']\n",
    "\n",
    "# Creating the bar plot\n",
    "plt.bar(labels, values, color = 'orange')\n",
    "\n",
    "# Adding titles and labels\n",
    "plt.title('Comparison of Six Values')\n",
    "plt.xlabel('Categories')\n",
    "plt.ylabel('Values')\n",
    "\n",
    "# Display the plot\n",
    "plt.show()\n"
   ]
  },
  {
   "cell_type": "code",
   "execution_count": 37,
   "id": "436ea075",
   "metadata": {},
   "outputs": [],
   "source": [
    "#Since Complement Naive Bayes has the best accuracy, we will use this is in personality predictions of the people"
   ]
  },
  {
   "cell_type": "code",
   "execution_count": 38,
   "id": "59532e20",
   "metadata": {},
   "outputs": [],
   "source": [
    "#Finding the type of each applicant in the test data"
   ]
  },
  {
   "cell_type": "code",
   "execution_count": 46,
   "id": "7d2256b7",
   "metadata": {},
   "outputs": [
    {
     "name": "stdout",
     "output_type": "stream",
     "text": [
      "['INTJ' 'INTJ' 'INTJ' 'INTJ' 'INTJ' 'INTJ' 'INTJ' 'INTJ' 'INTJ' 'INTJ'\n",
      " 'INTJ' 'INTJ' 'INTJ' 'INTP' 'INTJ' 'ENFJ' 'INTJ' 'INFP' 'INTJ' 'INTJ'\n",
      " 'INTJ' 'INTJ' 'INTJ' 'INTJ' 'INTJ' 'INTP' 'INTJ' 'INTJ' 'INTJ' 'INTJ'\n",
      " 'INTJ' 'INTJ' 'INTJ' 'INTJ' 'INTJ' 'INTJ' 'INTJ' 'INTJ' 'INTJ' 'INTP'\n",
      " 'INTJ' 'INTP' 'INTJ' 'INTJ' 'INTJ' 'INTP' 'INTJ' 'INTP' 'INTJ' 'INTJ'\n",
      " 'INTJ' 'INTJ' 'INTJ' 'INTJ' 'ISTP' 'INTJ' 'INTJ' 'INTJ' 'INTJ' 'INTP'\n",
      " 'INTP' 'INTJ' 'INTJ' 'INTP' 'INTJ' 'INTJ' 'INTJ' 'INTJ' 'INTJ' 'INTJ'\n",
      " 'INTJ' 'INTJ' 'INTJ' 'INTJ' 'INTP' 'INTP' 'INTP' 'INTJ' 'INTJ' 'INTJ'\n",
      " 'INTJ' 'INTP' 'INTJ' 'INTP' 'INTJ' 'INTP' 'INTJ' 'INTJ' 'INTJ' 'INTJ'\n",
      " 'INTJ' 'INTJ' 'INTJ' 'INTJ' 'INTJ' 'INTJ' 'INTJ' 'INTJ' 'INTJ' 'INTJ']\n",
      "{'ENFJ': 1, 'INFP': 1, 'INTJ': 82, 'INTP': 15, 'ISTP': 1} \n",
      "\n"
     ]
    }
   ],
   "source": [
    "import csv\n",
    "\n",
    "# Replace 'your_file.csv' with the path to your CSV file\n",
    "file_path = test_file = 'Test_data_main.csv'\n",
    "\n",
    "vectorizer = CountVectorizer(max_features=1000)\n",
    "joined_text = [' '.join(words) for words in list_text]\n",
    "vectorizer.fit(joined_text)\n",
    "\n",
    "# Open the CSV file\n",
    "with open(file_path, newline='', encoding='utf-8') as csvfile:\n",
    "    csvreader = csv.reader(csvfile)\n",
    "    \n",
    "    final_list=[]\n",
    "    # Loop through each row in the CSV file\n",
    "    next(csvreader)\n",
    "    for row in csvreader:\n",
    "        # Accessing each column in the row\n",
    "        final_desc = ''\n",
    "        final_desc = row[2]+' '+row[4]+' '+row[5]+' '+row[6]+' '+row[7]\n",
    "        testdata_list = normalization(final_desc)\n",
    "        final_list.append(testdata_list)\n",
    "        \n",
    "        \n",
    "    final = [' '.join(words) for words in final_list]    \n",
    "    x = vectorizer.transform(final)     \n",
    "        \n",
    "    ans = cnb_model.predict(x)\n",
    "    print(ans)\n",
    "    unique1, counts1 = np.unique(ans, return_counts=True)\n",
    "    print(dict(zip(unique1, counts1)), \"\\n\")\n",
    "\n",
    "    \n",
    "        \n",
    "        \n"
   ]
  },
  {
   "cell_type": "code",
   "execution_count": 58,
   "id": "ee930688",
   "metadata": {},
   "outputs": [
    {
     "name": "stdout",
     "output_type": "stream",
     "text": [
      "copy successful\n"
     ]
    }
   ],
   "source": [
    "import pandas as pd\n",
    "\n",
    "# File paths\n",
    "source_file = 'test_data_main.xlsx'  # Replace with your source file path\n",
    "destination_file = 'final_output.xlsx'  # Replace with your destination file path\n",
    "\n",
    "\n",
    "df = pd.read_excel(source_file)\n",
    "\n",
    "with pd.ExcelWriter(destination_file, engine='openpyxl', mode='a', if_sheet_exists='replace') as writer:\n",
    "    df.to_excel(writer,  index=False)\n",
    "    \n",
    "file_path = 'final_output.xlsx'\n",
    "df = pd.read_excel(file_path)\n",
    "\n",
    "df['Personality Type'] = pd.Series(ans)\n",
    "\n",
    "# Write the updated DataFrame back to Excel\n",
    "df.to_excel(file_path, index=False)\n",
    "\n",
    "print(\"copy successful\")\n"
   ]
  },
  {
   "cell_type": "code",
   "execution_count": 51,
   "id": "83c908d4",
   "metadata": {},
   "outputs": [
    {
     "name": "stdout",
     "output_type": "stream",
     "text": [
      "Collecting python-docx\n",
      "  Downloading python_docx-1.1.0-py3-none-any.whl (239 kB)\n",
      "     -------------------------------------- 239.6/239.6 kB 2.4 MB/s eta 0:00:00\n",
      "Requirement already satisfied: lxml>=3.1.0 in c:\\users\\saisu\\anaconda3\\lib\\site-packages (from python-docx) (4.9.1)\n",
      "Requirement already satisfied: typing-extensions in c:\\users\\saisu\\anaconda3\\lib\\site-packages (from python-docx) (4.4.0)\n",
      "Installing collected packages: python-docx\n",
      "Successfully installed python-docx-1.1.0\n"
     ]
    }
   ],
   "source": [
    "!pip install python-docx\n"
   ]
  },
  {
   "cell_type": "code",
   "execution_count": null,
   "id": "82906236",
   "metadata": {},
   "outputs": [],
   "source": []
  },
  {
   "cell_type": "code",
   "execution_count": null,
   "id": "709a2e70",
   "metadata": {},
   "outputs": [],
   "source": []
  }
 ],
 "metadata": {
  "kernelspec": {
   "display_name": "Python 3 (ipykernel)",
   "language": "python",
   "name": "python3"
  },
  "language_info": {
   "codemirror_mode": {
    "name": "ipython",
    "version": 3
   },
   "file_extension": ".py",
   "mimetype": "text/x-python",
   "name": "python",
   "nbconvert_exporter": "python",
   "pygments_lexer": "ipython3",
   "version": "3.10.9"
  }
 },
 "nbformat": 4,
 "nbformat_minor": 5
}
